{
 "cells": [
  {
   "cell_type": "markdown",
   "id": "39671f9b-9975-4c0e-8ef1-357fe2a3e06d",
   "metadata": {},
   "source": [
    "# Monte Carlo dropout\n",
    "\n",
    "本文介绍另一种很常见的神经网络不确定性量化方法，Monte Carlo Dropout，主要参考了以下资料：\n",
    "\n",
    "- [Monte Carlo Dropout](https://towardsdatascience.com/monte-carlo-dropout-7fd52f8b6571)\n",
    "- [Dropout as a Bayesian Approximation: Representing Model Uncertainty in Deep Learning](https://paperswithcode.com/paper/dropout-as-a-bayesian-approximation)\n",
    "- [Monte Carlo dropout](https://docs.aws.amazon.com/prescriptive-guidance/latest/ml-quantifying-uncertainty/mc-dropout.html)\n",
    "- [Monte-Carlo Dropout，蒙特卡罗 dropout](https://www.cnblogs.com/wuliytTaotao/p/11509634.html)"
   ]
  }
 ],
 "metadata": {
  "kernelspec": {
   "display_name": "Python 3",
   "language": "python",
   "name": "python3"
  },
  "language_info": {
   "codemirror_mode": {
    "name": "ipython",
    "version": 3
   },
   "file_extension": ".py",
   "mimetype": "text/x-python",
   "name": "python",
   "nbconvert_exporter": "python",
   "pygments_lexer": "ipython3",
   "version": "3.9.4"
  }
 },
 "nbformat": 4,
 "nbformat_minor": 5
}
