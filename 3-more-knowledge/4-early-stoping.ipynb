{
 "cells": [
  {
   "cell_type": "markdown",
   "metadata": {},
   "source": [
    "# Early Stopping for PyTorch\n",
    "\n",
    "本文主要参考：[Early Stopping for PyTorch](https://github.com/Bjarten/early-stopping-pytorch)。\n",
    "\n",
    "早停法是一种正则化形式，用于避免过度拟合训练数据集。跟踪验证损失以尽早停止，如果连续几个epoch损失停止减少，则训练将停止。pytorchtool.py中的EarlyStopping类用于创建对象，以在训练PyTorch模型时跟踪验证loss。每当验证损失减少时，它将保存模型的检查点。我们将类中的patience参数设置为在EarlyStopping上次验证损失改善后要中断训练循环之前要等待多少个时期。EarlyStopping在MNIST_Early_Stopping_example笔记本中有一个简单的示例，说明如何使用该类。接下来一个例子，是在MNIST数据集上用NN来做早停法。"
   ]
  },
  {
   "cell_type": "code",
   "execution_count": 1,
   "metadata": {},
   "outputs": [],
   "source": [
    "# import libraries\n",
    "import torch\n",
    "import numpy as np\n",
    "import matplotlib.pyplot as plt"
   ]
  },
  {
   "cell_type": "markdown",
   "metadata": {},
   "source": [
    "接下来加载和batch数据"
   ]
  },
  {
   "cell_type": "code",
   "execution_count": 2,
   "metadata": {},
   "outputs": [],
   "source": [
    "from torchvision import datasets\n",
    "import torchvision.transforms as transforms\n",
    "from torch.utils.data.sampler import SubsetRandomSampler\n",
    "\n",
    "def create_datasets(batch_size):\n",
    "\n",
    "    # percentage of training set to use as validation\n",
    "    valid_size = 0.2\n",
    "\n",
    "    # convert data to torch.FloatTensor\n",
    "    transform = transforms.ToTensor()\n",
    "\n",
    "    # choose the training and test datasets\n",
    "    train_data = datasets.MNIST(root='data', \n",
    "                                train=True,\n",
    "                                download=True, \n",
    "                                transform=transform)\n",
    "\n",
    "    test_data = datasets.MNIST(root='data',\n",
    "                               train=False,\n",
    "                               download=True,\n",
    "                               transform=transform)\n",
    "\n",
    "    # obtain training indices that will be used for validation\n",
    "    num_train = len(train_data)\n",
    "    indices = list(range(num_train))\n",
    "    np.random.shuffle(indices)\n",
    "    split = int(np.floor(valid_size * num_train))\n",
    "    train_idx, valid_idx = indices[split:], indices[:split]\n",
    "    \n",
    "    # define samplers for obtaining training and validation batches\n",
    "    train_sampler = SubsetRandomSampler(train_idx)\n",
    "    valid_sampler = SubsetRandomSampler(valid_idx)\n",
    "    \n",
    "    # load training data in batches\n",
    "    train_loader = torch.utils.data.DataLoader(train_data,\n",
    "                                               batch_size=batch_size,\n",
    "                                               sampler=train_sampler,\n",
    "                                               num_workers=0)\n",
    "    \n",
    "    # load validation data in batches\n",
    "    valid_loader = torch.utils.data.DataLoader(train_data,\n",
    "                                               batch_size=batch_size,\n",
    "                                               sampler=valid_sampler,\n",
    "                                               num_workers=0)\n",
    "    \n",
    "    # load test data in batches\n",
    "    test_loader = torch.utils.data.DataLoader(test_data,\n",
    "                                              batch_size=batch_size,\n",
    "                                              num_workers=0)\n",
    "    \n",
    "    return train_loader, test_loader, valid_loader"
   ]
  },
  {
   "cell_type": "markdown",
   "metadata": {},
   "source": [
    "定义网络"
   ]
  },
  {
   "cell_type": "code",
   "execution_count": 3,
   "metadata": {},
   "outputs": [
    {
     "name": "stdout",
     "output_type": "stream",
     "text": [
      "Net(\n",
      "  (fc1): Linear(in_features=784, out_features=128, bias=True)\n",
      "  (fc2): Linear(in_features=128, out_features=128, bias=True)\n",
      "  (fc3): Linear(in_features=128, out_features=10, bias=True)\n",
      "  (dropout): Dropout(p=0.5, inplace=False)\n",
      ")\n"
     ]
    }
   ],
   "source": [
    "import torch.nn as nn\n",
    "import torch.nn.functional as F\n",
    "\n",
    "class Net(nn.Module):\n",
    "    def __init__(self):\n",
    "        super(Net, self).__init__()\n",
    "        self.fc1 = nn.Linear(28 * 28, 128)\n",
    "        self.fc2 = nn.Linear(128, 128)\n",
    "        self.fc3 = nn.Linear(128, 10)\n",
    "        self.dropout = nn.Dropout(0.5)\n",
    "    def forward(self, x):\n",
    "        # flatten image input\n",
    "        x = x.view(-1, 28 * 28)\n",
    "        # add hidden layer, with relu activation function\n",
    "        x = F.relu(self.fc1(x))\n",
    "        x = self.dropout(x)\n",
    "        # add hidden layer, with relu activation function\n",
    "        x = F.relu(self.fc2(x))\n",
    "        x = self.dropout(x)\n",
    "        # add output layer\n",
    "        x = self.fc3(x)\n",
    "        return x\n",
    "\n",
    "# initialize the NN\n",
    "model = Net()\n",
    "print(model)"
   ]
  },
  {
   "cell_type": "code",
   "execution_count": 4,
   "metadata": {},
   "outputs": [],
   "source": [
    "# specify loss function\n",
    "criterion = nn.CrossEntropyLoss()\n",
    "\n",
    "# specify optimizer\n",
    "optimizer = torch.optim.Adam(model.parameters())"
   ]
  },
  {
   "cell_type": "code",
   "execution_count": 5,
   "metadata": {},
   "outputs": [],
   "source": [
    "# import EarlyStopping\n",
    "from pytorchtools import EarlyStopping"
   ]
  },
  {
   "cell_type": "code",
   "execution_count": 6,
   "metadata": {},
   "outputs": [],
   "source": [
    "def train_model(model, batch_size, patience, n_epochs):\n",
    "    \n",
    "    # to track the training loss as the model trains\n",
    "    train_losses = []\n",
    "    # to track the validation loss as the model trains\n",
    "    valid_losses = []\n",
    "    # to track the average training loss per epoch as the model trains\n",
    "    avg_train_losses = []\n",
    "    # to track the average validation loss per epoch as the model trains\n",
    "    avg_valid_losses = [] \n",
    "    \n",
    "    # initialize the early_stopping object\n",
    "    early_stopping = EarlyStopping(patience=patience, verbose=True)\n",
    "    \n",
    "    for epoch in range(1, n_epochs + 1):\n",
    "\n",
    "        ###################\n",
    "        # train the model #\n",
    "        ###################\n",
    "        model.train() # prep model for training\n",
    "        for batch, (data, target) in enumerate(train_loader, 1):\n",
    "            # clear the gradients of all optimized variables\n",
    "            optimizer.zero_grad()\n",
    "            # forward pass: compute predicted outputs by passing inputs to the model\n",
    "            output = model(data)\n",
    "            # calculate the loss\n",
    "            loss = criterion(output, target)\n",
    "            # backward pass: compute gradient of the loss with respect to model parameters\n",
    "            loss.backward()\n",
    "            # perform a single optimization step (parameter update)\n",
    "            optimizer.step()\n",
    "            # record training loss\n",
    "            train_losses.append(loss.item())\n",
    "\n",
    "        ######################    \n",
    "        # validate the model #\n",
    "        ######################\n",
    "        model.eval() # prep model for evaluation\n",
    "        for data, target in valid_loader:\n",
    "            # forward pass: compute predicted outputs by passing inputs to the model\n",
    "            output = model(data)\n",
    "            # calculate the loss\n",
    "            loss = criterion(output, target)\n",
    "            # record validation loss\n",
    "            valid_losses.append(loss.item())\n",
    "\n",
    "        # print training/validation statistics \n",
    "        # calculate average loss over an epoch\n",
    "        train_loss = np.average(train_losses)\n",
    "        valid_loss = np.average(valid_losses)\n",
    "        avg_train_losses.append(train_loss)\n",
    "        avg_valid_losses.append(valid_loss)\n",
    "        \n",
    "        epoch_len = len(str(n_epochs))\n",
    "        \n",
    "        print_msg = (f'[{epoch:>{epoch_len}}/{n_epochs:>{epoch_len}}] ' +\n",
    "                     f'train_loss: {train_loss:.5f} ' +\n",
    "                     f'valid_loss: {valid_loss:.5f}')\n",
    "        \n",
    "        print(print_msg)\n",
    "        \n",
    "        # clear lists to track next epoch\n",
    "        train_losses = []\n",
    "        valid_losses = []\n",
    "        \n",
    "        # early_stopping needs the validation loss to check if it has decresed, \n",
    "        # and if it has, it will make a checkpoint of the current model\n",
    "        early_stopping(valid_loss, model)\n",
    "        \n",
    "        if early_stopping.early_stop:\n",
    "            print(\"Early stopping\")\n",
    "            break\n",
    "        \n",
    "    # load the last checkpoint with the best model\n",
    "    model.load_state_dict(torch.load('checkpoint.pt'))\n",
    "\n",
    "    return  model, avg_train_losses, avg_valid_losses"
   ]
  },
  {
   "cell_type": "code",
   "execution_count": 11,
   "metadata": {},
   "outputs": [
    {
     "name": "stdout",
     "output_type": "stream",
     "text": [
      "Using downloaded and verified file: data\\MNIST\\raw\\train-images-idx3-ubyte.gz\n",
      "Extracting data\\MNIST\\raw\\train-images-idx3-ubyte.gz to data\\MNIST\\raw\n",
      "Using downloaded and verified file: data\\MNIST\\raw\\train-labels-idx1-ubyte.gz\n",
      "Extracting data\\MNIST\\raw\\train-labels-idx1-ubyte.gz to data\\MNIST\\raw\n",
      "Using downloaded and verified file: data\\MNIST\\raw\\t10k-images-idx3-ubyte.gz\n",
      "Extracting data\\MNIST\\raw\\t10k-images-idx3-ubyte.gz to data\\MNIST\\raw\n",
      "Using downloaded and verified file: data\\MNIST\\raw\\t10k-labels-idx1-ubyte.gz\n",
      "Extracting data\\MNIST\\raw\\t10k-labels-idx1-ubyte.gz to data\\MNIST\\raw\n",
      "Processing...\n",
      "Done!\n"
     ]
    }
   ],
   "source": [
    "batch_size = 256\n",
    "n_epochs = 100\n",
    "\n",
    "train_loader, test_loader, valid_loader = create_datasets(batch_size)"
   ]
  },
  {
   "cell_type": "code",
   "execution_count": 12,
   "metadata": {},
   "outputs": [
    {
     "name": "stdout",
     "output_type": "stream",
     "text": [
      "[  1/100] train_loss: 0.83646 valid_loss: 0.30541\n",
      "Validation loss decreased (inf --> 0.305412).  Saving model ...\n",
      "[  2/100] train_loss: 0.37217 valid_loss: 0.22631\n",
      "Validation loss decreased (0.305412 --> 0.226307).  Saving model ...\n",
      "[  3/100] train_loss: 0.29700 valid_loss: 0.18568\n",
      "Validation loss decreased (0.226307 --> 0.185680).  Saving model ...\n",
      "[  4/100] train_loss: 0.25424 valid_loss: 0.16183\n",
      "Validation loss decreased (0.185680 --> 0.161832).  Saving model ...\n",
      "[  5/100] train_loss: 0.23119 valid_loss: 0.14917\n",
      "Validation loss decreased (0.161832 --> 0.149171).  Saving model ...\n",
      "[  6/100] train_loss: 0.21292 valid_loss: 0.14260\n",
      "Validation loss decreased (0.149171 --> 0.142605).  Saving model ...\n",
      "[  7/100] train_loss: 0.19666 valid_loss: 0.13002\n",
      "Validation loss decreased (0.142605 --> 0.130023).  Saving model ...\n",
      "[  8/100] train_loss: 0.18337 valid_loss: 0.12157\n",
      "Validation loss decreased (0.130023 --> 0.121573).  Saving model ...\n",
      "[  9/100] train_loss: 0.17235 valid_loss: 0.11491\n",
      "Validation loss decreased (0.121573 --> 0.114906).  Saving model ...\n",
      "[ 10/100] train_loss: 0.16362 valid_loss: 0.11219\n",
      "Validation loss decreased (0.114906 --> 0.112187).  Saving model ...\n",
      "[ 11/100] train_loss: 0.15780 valid_loss: 0.11009\n",
      "Validation loss decreased (0.112187 --> 0.110093).  Saving model ...\n",
      "[ 12/100] train_loss: 0.15241 valid_loss: 0.10923\n",
      "Validation loss decreased (0.110093 --> 0.109226).  Saving model ...\n",
      "[ 13/100] train_loss: 0.14535 valid_loss: 0.10437\n",
      "Validation loss decreased (0.109226 --> 0.104373).  Saving model ...\n",
      "[ 14/100] train_loss: 0.13861 valid_loss: 0.10551\n",
      "EarlyStopping counter: 1 out of 20\n",
      "[ 15/100] train_loss: 0.13912 valid_loss: 0.10560\n",
      "EarlyStopping counter: 2 out of 20\n",
      "[ 16/100] train_loss: 0.13320 valid_loss: 0.09899\n",
      "Validation loss decreased (0.104373 --> 0.098993).  Saving model ...\n",
      "[ 17/100] train_loss: 0.12752 valid_loss: 0.10217\n",
      "EarlyStopping counter: 1 out of 20\n",
      "[ 18/100] train_loss: 0.12454 valid_loss: 0.09979\n",
      "EarlyStopping counter: 2 out of 20\n",
      "[ 19/100] train_loss: 0.12228 valid_loss: 0.09997\n",
      "EarlyStopping counter: 3 out of 20\n",
      "[ 20/100] train_loss: 0.12417 valid_loss: 0.10038\n",
      "EarlyStopping counter: 4 out of 20\n",
      "[ 21/100] train_loss: 0.11541 valid_loss: 0.09848\n",
      "Validation loss decreased (0.098993 --> 0.098478).  Saving model ...\n",
      "[ 22/100] train_loss: 0.11505 valid_loss: 0.09811\n",
      "Validation loss decreased (0.098478 --> 0.098106).  Saving model ...\n",
      "[ 23/100] train_loss: 0.11203 valid_loss: 0.10054\n",
      "EarlyStopping counter: 1 out of 20\n",
      "[ 24/100] train_loss: 0.11273 valid_loss: 0.09919\n",
      "EarlyStopping counter: 2 out of 20\n",
      "[ 25/100] train_loss: 0.10797 valid_loss: 0.09766\n",
      "Validation loss decreased (0.098106 --> 0.097655).  Saving model ...\n",
      "[ 26/100] train_loss: 0.10629 valid_loss: 0.09522\n",
      "Validation loss decreased (0.097655 --> 0.095222).  Saving model ...\n",
      "[ 27/100] train_loss: 0.10728 valid_loss: 0.09477\n",
      "Validation loss decreased (0.095222 --> 0.094772).  Saving model ...\n",
      "[ 28/100] train_loss: 0.10155 valid_loss: 0.09749\n",
      "EarlyStopping counter: 1 out of 20\n",
      "[ 29/100] train_loss: 0.10241 valid_loss: 0.09737\n",
      "EarlyStopping counter: 2 out of 20\n",
      "[ 30/100] train_loss: 0.09926 valid_loss: 0.09773\n",
      "EarlyStopping counter: 3 out of 20\n",
      "[ 31/100] train_loss: 0.10126 valid_loss: 0.09677\n",
      "EarlyStopping counter: 4 out of 20\n",
      "[ 32/100] train_loss: 0.09772 valid_loss: 0.09501\n",
      "EarlyStopping counter: 5 out of 20\n",
      "[ 33/100] train_loss: 0.09179 valid_loss: 0.09912\n",
      "EarlyStopping counter: 6 out of 20\n",
      "[ 34/100] train_loss: 0.09664 valid_loss: 0.09665\n",
      "EarlyStopping counter: 7 out of 20\n",
      "[ 35/100] train_loss: 0.09343 valid_loss: 0.09532\n",
      "EarlyStopping counter: 8 out of 20\n",
      "[ 36/100] train_loss: 0.09038 valid_loss: 0.09620\n",
      "EarlyStopping counter: 9 out of 20\n",
      "[ 37/100] train_loss: 0.08963 valid_loss: 0.09982\n",
      "EarlyStopping counter: 10 out of 20\n",
      "[ 38/100] train_loss: 0.09381 valid_loss: 0.09839\n",
      "EarlyStopping counter: 11 out of 20\n",
      "[ 39/100] train_loss: 0.09255 valid_loss: 0.09518\n",
      "EarlyStopping counter: 12 out of 20\n",
      "[ 40/100] train_loss: 0.09142 valid_loss: 0.09693\n",
      "EarlyStopping counter: 13 out of 20\n",
      "[ 41/100] train_loss: 0.08740 valid_loss: 0.09955\n",
      "EarlyStopping counter: 14 out of 20\n",
      "[ 42/100] train_loss: 0.08848 valid_loss: 0.10211\n",
      "EarlyStopping counter: 15 out of 20\n",
      "[ 43/100] train_loss: 0.08523 valid_loss: 0.09675\n",
      "EarlyStopping counter: 16 out of 20\n",
      "[ 44/100] train_loss: 0.08875 valid_loss: 0.09483\n",
      "EarlyStopping counter: 17 out of 20\n",
      "[ 45/100] train_loss: 0.08430 valid_loss: 0.09919\n",
      "EarlyStopping counter: 18 out of 20\n",
      "[ 46/100] train_loss: 0.08668 valid_loss: 0.09787\n",
      "EarlyStopping counter: 19 out of 20\n",
      "[ 47/100] train_loss: 0.08266 valid_loss: 0.09921\n",
      "EarlyStopping counter: 20 out of 20\n",
      "Early stopping\n"
     ]
    }
   ],
   "source": [
    "# early stopping patience; how long to wait after last time validation loss improved.\n",
    "patience = 20\n",
    "\n",
    "model, train_loss, valid_loss = train_model(model, batch_size, patience, n_epochs)"
   ]
  },
  {
   "cell_type": "markdown",
   "metadata": {},
   "source": [
    "然后可视化下训练过程来看看。"
   ]
  },
  {
   "cell_type": "code",
   "execution_count": 13,
   "metadata": {},
   "outputs": [
    {
     "data": {
      "image/png": "[encoded data removed]",
      "text/plain": [
       "<Figure size 720x576 with 1 Axes>"
      ]
     },
     "metadata": {
      "needs_background": "light"
     },
     "output_type": "display_data"
    }
   ],
   "source": [
    "import os\n",
    "# visualize the loss as the network trained\n",
    "fig = plt.figure(figsize=(10,8))\n",
    "plt.plot(range(1,len(train_loss)+1),train_loss, label='Training Loss')\n",
    "plt.plot(range(1,len(valid_loss)+1),valid_loss,label='Validation Loss')\n",
    "\n",
    "# find position of lowest validation loss\n",
    "minposs = valid_loss.index(min(valid_loss))+1 \n",
    "plt.axvline(minposs, linestyle='--', color='r',label='Early Stopping Checkpoint')\n",
    "\n",
    "plt.xlabel('epochs')\n",
    "plt.ylabel('loss')\n",
    "plt.ylim(0, 0.5) # consistent scale\n",
    "plt.xlim(0, len(train_loss)+1) # consistent scale\n",
    "plt.grid(True)\n",
    "plt.legend()\n",
    "plt.tight_layout()\n",
    "plt.show()\n",
    "fig.savefig(os.path.join(\"img\", \"imgloss_plot.png\"), bbox_inches='tight')"
   ]
  },
  {
   "cell_type": "markdown",
   "metadata": {},
   "source": [
    "最后是测试："
   ]
  },
  {
   "cell_type": "code",
   "execution_count": 14,
   "metadata": {},
   "outputs": [
    {
     "name": "stdout",
     "output_type": "stream",
     "text": [
      "Test Loss: 0.087527\n",
      "\n",
      "Test Accuracy of     0: 98% (967/979)\n",
      "Test Accuracy of     1: 98% (1119/1133)\n",
      "Test Accuracy of     2: 97% (1004/1030)\n",
      "Test Accuracy of     3: 97% (987/1008)\n",
      "Test Accuracy of     4: 98% (962/980)\n",
      "Test Accuracy of     5: 96% (860/890)\n",
      "Test Accuracy of     6: 97% (935/956)\n",
      "Test Accuracy of     7: 97% (1001/1027)\n",
      "Test Accuracy of     8: 96% (936/973)\n",
      "Test Accuracy of     9: 95% (965/1008)\n",
      "\n",
      "Test Accuracy (Overall): 97% (9736/9984)\n"
     ]
    }
   ],
   "source": [
    "# initialize lists to monitor test loss and accuracy\n",
    "test_loss = 0.0\n",
    "class_correct = list(0. for i in range(10))\n",
    "class_total = list(0. for i in range(10))\n",
    "\n",
    "model.eval() # prep model for evaluation\n",
    "\n",
    "for data, target in test_loader:\n",
    "    if len(target.data) != batch_size:\n",
    "        break\n",
    "    # forward pass: compute predicted outputs by passing inputs to the model\n",
    "    output = model(data)\n",
    "    # calculate the loss\n",
    "    loss = criterion(output, target)\n",
    "    # update test loss \n",
    "    test_loss += loss.item()*data.size(0)\n",
    "    # convert output probabilities to predicted class\n",
    "    _, pred = torch.max(output, 1)\n",
    "    # compare predictions to true label\n",
    "    correct = np.squeeze(pred.eq(target.data.view_as(pred)))\n",
    "    # calculate test accuracy for each object class\n",
    "    for i in range(batch_size):\n",
    "        label = target.data[i]\n",
    "        class_correct[label] += correct[i].item()\n",
    "        class_total[label] += 1\n",
    "\n",
    "# calculate and print avg test loss\n",
    "test_loss = test_loss/len(test_loader.dataset)\n",
    "print('Test Loss: {:.6f}\\n'.format(test_loss))\n",
    "\n",
    "for i in range(10):\n",
    "    if class_total[i] > 0:\n",
    "        print('Test Accuracy of %5s: %2d%% (%2d/%2d)' % (\n",
    "            str(i), 100 * class_correct[i] / class_total[i],\n",
    "            np.sum(class_correct[i]), np.sum(class_total[i])))\n",
    "    else:\n",
    "        print('Test Accuracy of %5s: N/A (no training examples)' % (classes[i]))\n",
    "\n",
    "print('\\nTest Accuracy (Overall): %2d%% (%2d/%2d)' % (\n",
    "    100. * np.sum(class_correct) / np.sum(class_total),\n",
    "    np.sum(class_correct), np.sum(class_total)))"
   ]
  },
  {
   "cell_type": "code",
   "execution_count": 15,
   "metadata": {},
   "outputs": [
    {
     "data": {
      "image/png": "[encoded data removed]",
      "text/plain": [
       "<Figure size 1800x288 with 20 Axes>"
      ]
     },
     "metadata": {},
     "output_type": "display_data"
    }
   ],
   "source": [
    "# obtain one batch of test images\n",
    "dataiter = iter(test_loader)\n",
    "images, labels = dataiter.next()\n",
    "\n",
    "# get sample outputs\n",
    "output = model(images)\n",
    "# convert output probabilities to predicted class\n",
    "_, preds = torch.max(output, 1)\n",
    "# prep images for display\n",
    "images = images.numpy()\n",
    "\n",
    "# plot the images in the batch, along with predicted and true labels\n",
    "fig = plt.figure(figsize=(25, 4))\n",
    "for idx in np.arange(20):\n",
    "    ax = fig.add_subplot(2, 20/2, idx+1, xticks=[], yticks=[])\n",
    "    ax.imshow(np.squeeze(images[idx]), cmap='gray')\n",
    "    ax.set_title(\"{} ({})\".format(str(preds[idx].item()), str(labels[idx].item())),\n",
    "                 color=(\"green\" if preds[idx]==labels[idx] else \"red\"))"
   ]
  },
  {
   "cell_type": "markdown",
   "metadata": {},
   "source": [
    "以上就是一个简单的early-stoping的策略。"
   ]
  }
 ],
 "metadata": {
  "kernelspec": {
   "display_name": "Python 3 (ipykernel)",
   "language": "python",
   "name": "python3"
  },
  "language_info": {
   "codemirror_mode": {
    "name": "ipython",
    "version": 3
   },
   "file_extension": ".py",
   "mimetype": "text/x-python",
   "name": "python",
   "nbconvert_exporter": "python",
   "pygments_lexer": "ipython3",
   "version": "3.9.6"
  }
 },
 "nbformat": 4,
 "nbformat_minor": 4
}
